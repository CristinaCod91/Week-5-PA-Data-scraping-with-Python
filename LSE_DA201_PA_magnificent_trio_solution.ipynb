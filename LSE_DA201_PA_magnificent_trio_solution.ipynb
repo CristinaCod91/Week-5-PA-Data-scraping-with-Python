{
 "cells": [
  {
   "cell_type": "markdown",
   "id": "d75a9832",
   "metadata": {},
   "source": [
    "### LSE Data Analytics Online Career Accelerator\n",
    "\n",
    "# DA201: Data Analytics using Python"
   ]
  },
  {
   "cell_type": "markdown",
   "id": "963426a8",
   "metadata": {},
   "source": [
    "## Practical activity: The magnificent trio"
   ]
  },
  {
   "cell_type": "markdown",
   "id": "8615e7ee",
   "metadata": {},
   "source": [
    "**This is the solution to the activity.**\n",
    "\n",
    "In Course 1: Data Analytics for Business, you learned how to conduct data wrangling and data analysis with Microsoft Excel and PostgreSQL (pgAdmin). Data Analytics with Python focuses on data wrangling and data analysis with Python in Jupyter Notebook.\n",
    "\n",
    "In this activity, you will download the transport costs of a shipping company as raw data. You will need to perform data wrangling and basic data analysis with three programs (Excel, PostgreSQL, and Python) on the same data set. During the activity, make notes on your experience so that you can share them with your peers in the discussion at the end of the week. At the end of this activity, you will reflect on the positives and negatives of each program. "
   ]
  },
  {
   "cell_type": "markdown",
   "id": "eb962e25",
   "metadata": {},
   "source": [
    "## 1. Import the libraries and data set"
   ]
  },
  {
   "cell_type": "code",
   "execution_count": null,
   "id": "fde628ad",
   "metadata": {},
   "outputs": [],
   "source": [
    "# Import the necessary libraries.\n",
    "import pandas as pd\n",
    "\n",
    "# Import the Excel file.\n",
    "transport = pd.read_excel('transport_costs.xlsx')\n",
    "\n",
    "# View the DataFrame.\n",
    "print(transport.shape)\n",
    "print(transport.dtypes)\n",
    "transport"
   ]
  },
  {
   "cell_type": "code",
   "execution_count": null,
   "id": "3e47ea56",
   "metadata": {},
   "outputs": [],
   "source": [
    "# Drop columns currency, distance unit.\n",
    "transport_final = transport[['region', 'country', 'port',\n",
    "                            'sea freight cost', 'road transport cost per km']]\n",
    "\n",
    "# View the output.\n",
    "transport_final"
   ]
  },
  {
   "cell_type": "markdown",
   "id": "d201e95d",
   "metadata": {},
   "source": [
    "# 2. Perform calculations"
   ]
  },
  {
   "cell_type": "code",
   "execution_count": null,
   "id": "7a88f5d5",
   "metadata": {},
   "outputs": [],
   "source": [
    "# Create new columns with calculated values.\n",
    "transport_final['total_sea_freight_costs'] = transport_final['sea freight cost'] * 2 * 4\n",
    "transport_final['total_road_transport_costs'] = transport_final['road transport cost per km'] * 10000\n",
    "transport_final['total_export_costs'] = transport_final['total_sea_freight_costs'] + transport_final['total_road_transport_costs']\n",
    "\n",
    "# View output.\n",
    "transport_final"
   ]
  },
  {
   "cell_type": "code",
   "execution_count": null,
   "id": "fa74d679",
   "metadata": {},
   "outputs": [],
   "source": [
    "# Write the output to a CSV file.\n",
    "transport_final.to_csv('transport_activity.csv')"
   ]
  },
  {
   "cell_type": "code",
   "execution_count": null,
   "id": "8da764c2",
   "metadata": {},
   "outputs": [],
   "source": []
  }
 ],
 "metadata": {
  "kernelspec": {
   "display_name": "Python 3 (ipykernel)",
   "language": "python",
   "name": "python3"
  },
  "language_info": {
   "codemirror_mode": {
    "name": "ipython",
    "version": 3
   },
   "file_extension": ".py",
   "mimetype": "text/x-python",
   "name": "python",
   "nbconvert_exporter": "python",
   "pygments_lexer": "ipython3",
   "version": "3.9.12"
  }
 },
 "nbformat": 4,
 "nbformat_minor": 5
}
